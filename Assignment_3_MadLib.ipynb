{
 "cells": [
  {
   "cell_type": "code",
   "execution_count": 2,
   "metadata": {},
   "outputs": [
    {
     "name": "stdout",
     "output_type": "stream",
     "text": [
      "Selma wanted to get healthy so she started eating lots of burgers every day. After a month she noticed that she was not feeling any healthier. She was especially surprised to see that her new diet made her head much bigger than the rest of her body. Selma decided that the only solution would be if she sings because she had heard doctors say it would help. She also started sleeping twice a day because her friend had tried this and told her that it really worked. After six months Selma started seeing a big difference in her overall health. She was now very fluffy and this made her happy.\n"
     ]
    }
   ],
   "source": [
    "## Assignment 3\n",
    "## define the variables; nouns, verbs and adj\n",
    "## the variables should be in an input setting\n",
    "## write the story and add the variables\n",
    "input(\"Hi, Welcome to Mad Libs! Press Enter to continue...\")\n",
    "\n",
    "noun_1 = input(\"Enter your favourite junk food: \")\n",
    "noun_2 = input(\"Which part of your body is your brain in?:\")\n",
    "verb_1 = input(\"Enter a present tense verb:\")\n",
    "noun_3= input(\"Enter your favourite activity:\")\n",
    "adj_1= input(\"Enter an adjective:\")\n",
    "MadLib_story = 'Selma wanted to get healthy so she started eating lots of ' + noun_1 + ' every day. After a month she noticed that she was not feeling any healthier. She was especially surprised to see that her new diet made her ' + noun_2 + ' much bigger than the rest of her body. Selma decided that the only solution would be if she ' + verb_1 + ' because she had heard doctors say it would help. She also started ' + noun_3 + ' twice a day because her friend had tried this and told her that it really worked. After six months Selma started seeing a big difference in her overall health. She was now very ' + adj_1 + ' and this made her happy.'\n",
    "print(MadLib_story)"
   ]
  }
 ],
 "metadata": {
  "kernelspec": {
   "display_name": "Python 3",
   "language": "python",
   "name": "python3"
  },
  "language_info": {
   "codemirror_mode": {
    "name": "ipython",
    "version": 3
   },
   "file_extension": ".py",
   "mimetype": "text/x-python",
   "name": "python",
   "nbconvert_exporter": "python",
   "pygments_lexer": "ipython3",
   "version": "3.8.9"
  },
  "orig_nbformat": 4
 },
 "nbformat": 4,
 "nbformat_minor": 2
}
